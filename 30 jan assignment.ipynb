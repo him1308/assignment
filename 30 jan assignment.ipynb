{
 "cells": [
  {
   "cell_type": "code",
   "execution_count": null,
   "id": "8ee89df9-c960-4300-8f92-7230bde19c4a",
   "metadata": {},
   "outputs": [],
   "source": [
    "# Question 1 \n",
    "n = int(input(\"Enter the percentage: \"))\n",
    "if n > 90:\n",
    "    print(\"Grade A\")\n",
    "elif n > 80 and n <= 90 :\n",
    "    print(\"Grade B\")\n",
    "elif n >= 60 and n <= 80:\n",
    "    print(\"Grade C\")\n",
    "else:\n",
    "    print(\"Grade D\")\n",
    "    \n",
    "    "
   ]
  },
  {
   "cell_type": "code",
   "execution_count": 3,
   "id": "cb0ada22-d099-4839-b64b-1bee1b0bd096",
   "metadata": {},
   "outputs": [
    {
     "name": "stdin",
     "output_type": "stream",
     "text": [
      "Enter the cost price:  50000\n"
     ]
    },
    {
     "name": "stdout",
     "output_type": "stream",
     "text": [
      "Tax 5%\n"
     ]
    }
   ],
   "source": [
    "#Question 2\n",
    "cost_price = int(input(\"Enter the cost price: \"))\n",
    "if cost_price > 100000:\n",
    "    print(\"Tax 15%\")\n",
    "elif cost_price > 50000 and cost_price <= 100000:\n",
    "    print(\"Tax 10%\")\n",
    "else:\n",
    "    print(\"Tax 5%\")"
   ]
  },
  {
   "cell_type": "code",
   "execution_count": 5,
   "id": "8b72d1e6-7b1d-437a-b716-4a28f2d7dc37",
   "metadata": {},
   "outputs": [
    {
     "name": "stdin",
     "output_type": "stream",
     "text": [
      "Enter the city name:  Jaipur\n"
     ]
    },
    {
     "name": "stdout",
     "output_type": "stream",
     "text": [
      "Jal Mahal\n"
     ]
    }
   ],
   "source": [
    "#Question 3\n",
    "city = input(\"Enter the city name: \")\n",
    "if city == \"Delhi\":\n",
    "    print(\"Red Fort\")\n",
    "if city == \"Agra\":\n",
    "    print(\"Taj Mahal\")\n",
    "if city == \"Jaipur\":\n",
    "    print(\"Jal Mahal\")"
   ]
  },
  {
   "cell_type": "code",
   "execution_count": 24,
   "id": "4e1b22e1-8d13-4af2-89ed-2dd1fec8da5f",
   "metadata": {},
   "outputs": [
    {
     "name": "stdin",
     "output_type": "stream",
     "text": [
      "Enter a number:  24\n"
     ]
    },
    {
     "name": "stdout",
     "output_type": "stream",
     "text": [
      "1\n"
     ]
    }
   ],
   "source": [
    "#Question 4\n",
    "n = int(input(\"Enter a number: \"))\n",
    "counter = 0\n",
    "if n >= 10:\n",
    "    while( n % 3 == 0):\n",
    "        n = int(n / 3)\n",
    "        counter += 1\n",
    "print(counter)        \n",
    "        \n",
    "        \n",
    "       \n",
    "        \n",
    "        "
   ]
  },
  {
   "cell_type": "code",
   "execution_count": 25,
   "id": "9b92f219-4f08-4b38-984f-db28f9b7d9c3",
   "metadata": {},
   "outputs": [
    {
     "name": "stdout",
     "output_type": "stream",
     "text": [
      "2\n",
      "4\n",
      "6\n",
      "8\n",
      "10\n"
     ]
    }
   ],
   "source": [
    "#Question 5\n",
    "'''A while loop in Python is a control flow structure that repeatedly executes a block of code until a \n",
    "specified condition is no longer true. \n",
    "It is used to execute a block of code repeatedly as long as a certain condition is met. \n",
    "The while loop continues to execute the block of code as long as the condition remains true.'''\n",
    "''' The condition is evaluated before each iteration of the loop, and if it is true, the block of code inside \n",
    "the loop is executed. Once the block of code is executed, the condition is checked again, and the loop continues\n",
    "to run as long as the condition remains true.\n",
    "One common use case for a while loop in Python is when you need to perform a task multiple times based on some \n",
    "condition. For example, you might use a while loop to iterate through a list and perform some operation on each\n",
    "element until a certain condition is met.'''\n",
    "'''Here is an example of using a while loop to print out the first 10 even numbers:'''\n",
    "\n",
    "i = 1\n",
    "while i <= 10:\n",
    "    if i % 2 == 0:\n",
    "        print(i)\n",
    "    i += 1\n",
    "\n",
    "'''In this example, the condition for the while loop is i <= 10. The loop will continue to run as long as i is\n",
    "less than or equal to 10. Inside the loop, the code checks if i is even, and if it is, it prints the value of i.\n",
    "Then, it increments i by 1 using the += operator. This process continues until i is greater than 10, at which \n",
    "point the loop exits.'''\n",
    "\n"
   ]
  },
  {
   "cell_type": "code",
   "execution_count": 1,
   "id": "abaef7e3-b1a0-4c14-8595-8fe2ee2ea547",
   "metadata": {},
   "outputs": [
    {
     "name": "stdout",
     "output_type": "stream",
     "text": [
      "1 \n",
      "1 2 \n",
      "1 2 3 \n",
      "1 2 3 4 \n",
      "1 2 3 4 5 \n"
     ]
    }
   ],
   "source": [
    "#Question 6(1)\n",
    "\n",
    "i = 1\n",
    "while i <= 5:\n",
    "    j = 1\n",
    "    while j <= i:\n",
    "        print(j, end=\" \")\n",
    "        j += 1\n",
    "    print()\n",
    "    i += 1\n",
    "    \n"
   ]
  },
  {
   "cell_type": "code",
   "execution_count": 2,
   "id": "8e68450d-948d-4648-b087-dd51f92730d7",
   "metadata": {},
   "outputs": [
    {
     "name": "stdout",
     "output_type": "stream",
     "text": [
      "1 2 3 4 5 \n",
      "1 2 3 4 \n",
      "1 2 3 \n",
      "1 2 \n",
      "1 \n"
     ]
    }
   ],
   "source": [
    "#Question 6(2)\n",
    "    \n",
    "i = 5\n",
    "while i >= 1:\n",
    "    j = 1\n",
    "    while j <= i:\n",
    "        print(j, end=\" \")\n",
    "        j += 1\n",
    "    print()\n",
    "    i -= 1\n"
   ]
  },
  {
   "cell_type": "code",
   "execution_count": 3,
   "id": "afb59f7b-efdf-4abe-9d76-53ecf6285a72",
   "metadata": {},
   "outputs": [
    {
     "name": "stdout",
     "output_type": "stream",
     "text": [
      "* \n",
      "* * \n",
      "* * * \n",
      "* * * * \n",
      "* * * \n",
      "* * \n",
      "* \n"
     ]
    }
   ],
   "source": [
    "#Question 6(3)\n",
    "\n",
    "i = 1\n",
    "while i <= 4:\n",
    "    j = 1\n",
    "    while j <= i:\n",
    "        print(\"*\", end=\" \")\n",
    "        j += 1\n",
    "    print()\n",
    "    i += 1\n",
    "\n",
    "i = 3\n",
    "while i >= 1:\n",
    "    j = 1\n",
    "    while j <= i:\n",
    "        print(\"*\", end=\" \")\n",
    "        j += 1\n",
    "    print()\n",
    "    i -= 1\n"
   ]
  },
  {
   "cell_type": "code",
   "execution_count": 1,
   "id": "ab24ff4b-cce7-45d3-b379-3aa96f4ff7e3",
   "metadata": {},
   "outputs": [
    {
     "name": "stdout",
     "output_type": "stream",
     "text": [
      "10\n",
      "9\n",
      "8\n",
      "7\n",
      "6\n",
      "5\n",
      "4\n",
      "3\n",
      "2\n",
      "1\n"
     ]
    }
   ],
   "source": [
    "#Question 7\n",
    "\n",
    "n = 10 \n",
    "while(n != 0):\n",
    "    print(n)\n",
    "    n = n - 1 \n"
   ]
  },
  {
   "cell_type": "code",
   "execution_count": 1,
   "id": "ac17f1e5-db14-4664-8646-d93f330b9b45",
   "metadata": {},
   "outputs": [
    {
     "name": "stdout",
     "output_type": "stream",
     "text": [
      "10\n",
      "9\n",
      "8\n",
      "7\n",
      "6\n",
      "5\n",
      "4\n",
      "3\n",
      "2\n",
      "1\n"
     ]
    }
   ],
   "source": [
    "#Question 8\n",
    "\n",
    "n = 10 \n",
    "while(n != 0):\n",
    "    print(n)\n",
    "    n = n - 1 \n"
   ]
  },
  {
   "cell_type": "code",
   "execution_count": null,
   "id": "fd4bca33-96d5-4ebd-a995-b5405c7445af",
   "metadata": {},
   "outputs": [],
   "source": []
  }
 ],
 "metadata": {
  "kernelspec": {
   "display_name": "Python 3 (ipykernel)",
   "language": "python",
   "name": "python3"
  },
  "language_info": {
   "codemirror_mode": {
    "name": "ipython",
    "version": 3
   },
   "file_extension": ".py",
   "mimetype": "text/x-python",
   "name": "python",
   "nbconvert_exporter": "python",
   "pygments_lexer": "ipython3",
   "version": "3.10.8"
  }
 },
 "nbformat": 4,
 "nbformat_minor": 5
}
