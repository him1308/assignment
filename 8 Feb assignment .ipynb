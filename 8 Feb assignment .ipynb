{
 "cells": [
  {
   "cell_type": "code",
   "execution_count": 2,
   "id": "0e4d0705-d058-446e-8bd3-ea1225ee36e9",
   "metadata": {},
   "outputs": [],
   "source": [
    "# ANS 1)\n",
    "\n",
    "Abstraction in OOP refers to the process of hiding complex implementation details of an object and exposing only \n",
    "the relevant and necessary information to the user. It allows the user to focus on the essential features of the\n",
    "object rather than being overwhelmed by its complexity.\n",
    "\n",
    "For example, consider a car. As a user, we do not need to know about the internal functioning of the car, such \n",
    "as how the engine works, how the gears shift, etc. Instead, we only need to know how to operate the car,\n",
    "i.e., how to start the car, how to drive, how to brake, etc. The internal working of the car is abstracted from \n",
    "the user, and only the necessary information is exposed."
   ]
  },
  {
   "cell_type": "code",
   "execution_count": 4,
   "id": "09ac9f71-a405-4a17-ba8e-7c2ca99cba30",
   "metadata": {},
   "outputs": [],
   "source": [
    "# ANS 2\n",
    "Abstraction and Encapsulation are both important concepts in Object-Oriented Programming, but they serve\n",
    "different purposes.\n",
    "\n",
    "Abstraction is the process of hiding complex implementation details and exposing only the relevant and necessary\n",
    "information to the user. It focuses on what the object does and not how it does it.\n",
    "\n",
    "Encapsulation, on the other hand, is the process of wrapping data and code into a single unit, and restricting \n",
    "access to the inner workings of the object. It focuses on data protection and information hiding.\n",
    "\n",
    "For example, consider a bank account. Abstraction in this case would mean hiding the internal details of the\n",
    "account, such as how interest is calculated, how transactions are processed, etc., and only exposing the \n",
    "necessary information, such as the account balance, the account number, etc. Encapsulation, on the other hand,\n",
    "would mean wrapping the account data and code into a single unit and restricting access to it, so that only \n",
    "authorized users can access the account data."
   ]
  },
  {
   "cell_type": "code",
   "execution_count": null,
   "id": "e11ecbf3-a728-4395-af31-deadbaefc71c",
   "metadata": {},
   "outputs": [],
   "source": [
    "# ANS 3\n",
    "The abc module in Python stands for Abstract Base Classes. It is a built-in module that provides a way to \n",
    "define abstract classes in Python. Abstract classes are classes that cannot be instantiated and can only be \n",
    "used as a base class for other classes.\n",
    "\n",
    "The abc module is used to define abstract classes by using the ABCMeta metaclass and the @abstractmethod \n",
    "decorator. An abstract method is a method that has no implementation and must be implemented by any concrete \n",
    "subclass of the abstract class that inherits it. The abc module helps to ensure that any subclass of the\n",
    "abstract class implements all of its abstract methods."
   ]
  },
  {
   "cell_type": "code",
   "execution_count": null,
   "id": "db9a5ad0-5713-4843-8b50-83688708ce59",
   "metadata": {},
   "outputs": [],
   "source": [
    "# ANS 4\n",
    "Data abstraction can be achieved in several ways in Object-Oriented Programming. One way is by using access \n",
    "modifiers such as public, private, and protected.\n",
    "\n",
    "Public members are accessible from anywhere in the program. Private members are only accessible within the \n",
    "class that defines them. Protected members are accessible within the class and its subclasses.\n",
    "\n",
    "Another way to achieve data abstraction is by using abstract classes and interfaces. Abstract classes are \n",
    "classes that cannot be instantiated and can only be used as a base class for other classes. Interfaces are \n",
    "similar to abstract classes, but they only define method signatures and not implementations."
   ]
  },
  {
   "cell_type": "code",
   "execution_count": null,
   "id": "ed91dc1f-c1ef-4b50-8d94-85c2a3ce6cee",
   "metadata": {},
   "outputs": [],
   "source": [
    "# ANS 5\n",
    "No, we cannot create an instance of an abstract class in Python. An abstract class is a class that cannot be \n",
    "instantiated and can only be used as a base class for other classes. It is designed to be subclassed and its\n",
    "abstract methods implemented by the concrete subclasses.\n",
    "\n",
    "If we try to create an instance of an abstract class, we will get a TypeError. To use an abstract class, we\n",
    "must first create a concrete subclass that implements all of its abstract methods.\n"
   ]
  }
 ],
 "metadata": {
  "kernelspec": {
   "display_name": "Python 3 (ipykernel)",
   "language": "python",
   "name": "python3"
  },
  "language_info": {
   "codemirror_mode": {
    "name": "ipython",
    "version": 3
   },
   "file_extension": ".py",
   "mimetype": "text/x-python",
   "name": "python",
   "nbconvert_exporter": "python",
   "pygments_lexer": "ipython3",
   "version": "3.10.8"
  }
 },
 "nbformat": 4,
 "nbformat_minor": 5
}
