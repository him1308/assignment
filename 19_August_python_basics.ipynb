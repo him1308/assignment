{
 "cells": [
  {
   "cell_type": "markdown",
   "id": "73d28f27-2313-4135-88cd-2591dfd2b34e",
   "metadata": {},
   "source": [
    "TOPIC: Python Basics Variable"
   ]
  },
  {
   "cell_type": "code",
   "execution_count": 1,
   "id": "b5327803-f4a9-485a-975e-2cc15c462529",
   "metadata": {},
   "outputs": [
    {
     "name": "stdout",
     "output_type": "stream",
     "text": [
      "x is now: 10\n",
      "y is now: 5\n"
     ]
    }
   ],
   "source": [
    "#Ques 1\n",
    "x = 5\n",
    "y = 10\n",
    "\n",
    "x, y = y, x\n",
    "\n",
    "print(\"x is now:\", x)\n",
    "print(\"y is now:\", y)\n"
   ]
  },
  {
   "cell_type": "code",
   "execution_count": 3,
   "id": "53b18f80-5c8d-48fb-a9af-6c7f171f81ee",
   "metadata": {},
   "outputs": [
    {
     "name": "stdin",
     "output_type": "stream",
     "text": [
      " 2\n",
      " 2\n"
     ]
    },
    {
     "name": "stdout",
     "output_type": "stream",
     "text": [
      "The area of rectangle is 4\n"
     ]
    }
   ],
   "source": [
    "# Ques 2\n",
    "\n",
    "length = int(input())\n",
    "width = int(input())\n",
    "\n",
    "area = length * width\n",
    "print(\"The area of rectangle is \" + str(area))\n"
   ]
  },
  {
   "cell_type": "code",
   "execution_count": 5,
   "id": "c3d64566-9929-4c07-9d95-fb2739204255",
   "metadata": {},
   "outputs": [
    {
     "name": "stdin",
     "output_type": "stream",
     "text": [
      " 24\n"
     ]
    },
    {
     "name": "stdout",
     "output_type": "stream",
     "text": [
      "The given temperature in fahrenheit is 75.2\n"
     ]
    }
   ],
   "source": [
    "#Ques 3\n",
    "\n",
    "celcius = float(input())\n",
    "fahrenheit = (celcius * 9/5) + 32\n",
    "print('The given temperature in fahrenheit is ' + str(fahrenheit))\n",
    "\n"
   ]
  },
  {
   "cell_type": "markdown",
   "id": "f3022943-0aea-4f13-82da-5bf8072c5a3a",
   "metadata": {},
   "source": [
    "TOPIC: String Based Questions"
   ]
  },
  {
   "cell_type": "code",
   "execution_count": 7,
   "id": "77eb3491-3bcc-426c-a4db-30aa73624c60",
   "metadata": {},
   "outputs": [
    {
     "name": "stdin",
     "output_type": "stream",
     "text": [
      " himansh\n"
     ]
    },
    {
     "name": "stdout",
     "output_type": "stream",
     "text": [
      "The length of given string is 7\n"
     ]
    }
   ],
   "source": [
    "#Ques 1\n",
    "\n",
    "a = input()\n",
    "print('The length of given string is ' + str(len(a)))"
   ]
  },
  {
   "cell_type": "code",
   "execution_count": 9,
   "id": "dd810cbb-ff84-4023-8d17-b8655a3fd0bc",
   "metadata": {},
   "outputs": [
    {
     "name": "stdin",
     "output_type": "stream",
     "text": [
      "Enter a sentence:  sudhanshu\n"
     ]
    },
    {
     "name": "stdout",
     "output_type": "stream",
     "text": [
      "The number of vowels in the sentence is: 3\n"
     ]
    }
   ],
   "source": [
    "#Ques 2\n",
    "\n",
    "sentence = input(\"Enter a sentence: \")\n",
    "vowel_count = 0\n",
    "vowels = set(\"aeiouAEIOU\")\n",
    "\n",
    "for char in sentence:\n",
    "    if char in vowels:\n",
    "        vowel_count += 1\n",
    "\n",
    "print(f\"The number of vowels in the sentence is: {vowel_count}\")\n"
   ]
  },
  {
   "cell_type": "code",
   "execution_count": 10,
   "id": "86185d44-e3fb-4f1c-8ffa-4008089e679a",
   "metadata": {},
   "outputs": [
    {
     "name": "stdout",
     "output_type": "stream",
     "text": [
      "uhsnahdus\n"
     ]
    }
   ],
   "source": [
    "#Ques 3\n",
    "\n",
    "a = \"sudhanshu\"\n",
    "rev = a[::-1]\n",
    "print(rev)"
   ]
  },
  {
   "cell_type": "code",
   "execution_count": 4,
   "id": "b5aa56b2-b4ea-4cd9-ad48-6f9898607bbe",
   "metadata": {},
   "outputs": [
    {
     "name": "stdin",
     "output_type": "stream",
     "text": [
      " sos\n"
     ]
    },
    {
     "name": "stdout",
     "output_type": "stream",
     "text": [
      "Given string is palindrome\n"
     ]
    }
   ],
   "source": [
    "#Ques 4\n",
    "\n",
    "a = input()\n",
    "if a == a[::-1]:\n",
    "    print('Given string is palindrome')"
   ]
  },
  {
   "cell_type": "code",
   "execution_count": 5,
   "id": "e65206e5-68e5-4a6e-825f-7056ac4a7d25",
   "metadata": {},
   "outputs": [
    {
     "name": "stdin",
     "output_type": "stream",
     "text": [
      "Enter a string:  hi what'sup\n"
     ]
    },
    {
     "name": "stdout",
     "output_type": "stream",
     "text": [
      "Modified string without spaces: hiwhat'sup\n"
     ]
    }
   ],
   "source": [
    "#Ques 5\n",
    "\n",
    "input_string = input(\"Enter a string: \")\n",
    "modified_string = input_string.replace(\" \", \"\")\n",
    "print(\"Modified string without spaces:\", modified_string)\n"
   ]
  },
  {
   "cell_type": "code",
   "execution_count": null,
   "id": "63dae5c0-cc50-46f8-b84c-d8cdfeb38861",
   "metadata": {},
   "outputs": [],
   "source": []
  }
 ],
 "metadata": {
  "kernelspec": {
   "display_name": "Python 3 (ipykernel)",
   "language": "python",
   "name": "python3"
  },
  "language_info": {
   "codemirror_mode": {
    "name": "ipython",
    "version": 3
   },
   "file_extension": ".py",
   "mimetype": "text/x-python",
   "name": "python",
   "nbconvert_exporter": "python",
   "pygments_lexer": "ipython3",
   "version": "3.10.8"
  }
 },
 "nbformat": 4,
 "nbformat_minor": 5
}
