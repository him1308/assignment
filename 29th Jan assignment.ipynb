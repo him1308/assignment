{
 "cells": [
  {
   "cell_type": "code",
   "execution_count": null,
   "id": "e3276484-c407-41a8-8ee9-dd0ef2f208ba",
   "metadata": {},
   "outputs": [],
   "source": [
    "ANS 1) Python programming language was developed by Guido van Rossum "
   ]
  },
  {
   "cell_type": "code",
   "execution_count": null,
   "id": "ccfbf53e-72a9-4caa-8665-6ebdab3cc6cc",
   "metadata": {},
   "outputs": [],
   "source": [
    "ANS 2) Object oriented programming,Procedural programming,Functional programming,Scripting\n"
   ]
  },
  {
   "cell_type": "code",
   "execution_count": null,
   "id": "b54632b3-25a1-423f-8996-66b430c3eca0",
   "metadata": {},
   "outputs": [],
   "source": [
    "ANS 3) Yes, Python is case sensitive when dealing with identifiers\n"
   ]
  },
  {
   "cell_type": "code",
   "execution_count": null,
   "id": "ecd00278-e828-4726-a888-d318c4bdcaa5",
   "metadata": {},
   "outputs": [],
   "source": [
    "ANS 4) The correct extension for a Python file is \".py\"."
   ]
  },
  {
   "cell_type": "code",
   "execution_count": null,
   "id": "0f3ca39c-aaaa-4191-8015-38f618373a2f",
   "metadata": {},
   "outputs": [],
   "source": [
    "ANS 5) Python is not compiled, it is Interpreted.\n"
   ]
  },
  {
   "cell_type": "code",
   "execution_count": null,
   "id": "a4514cfb-8fd6-41bc-a00a-8248168bd1dd",
   "metadata": {},
   "outputs": [],
   "source": [
    "ANS 6) In Python, blocks of code are defined using indentation.\n",
    "\n",
    "if condition:\n",
    "    # code to be executed if condition is true\n",
    "else:\n",
    "    # code to be executed if condition is false\n"
   ]
  },
  {
   "cell_type": "code",
   "execution_count": null,
   "id": "9e2c4b5d-f03e-4758-9d61-bf5c209f9c34",
   "metadata": {},
   "outputs": [],
   "source": [
    "ANS 7) In Python, the hash symbol (#) is used to indicate a single-line comment\n"
   ]
  },
  {
   "cell_type": "code",
   "execution_count": null,
   "id": "84478957-38c3-4a02-afa9-80bd1fbe8cd9",
   "metadata": {},
   "outputs": [],
   "source": [
    "ANS 8) sys.version"
   ]
  },
  {
   "cell_type": "code",
   "execution_count": null,
   "id": "063be9b9-747a-470d-bab6-682b02023396",
   "metadata": {},
   "outputs": [],
   "source": [
    "ANS 9)  Python supports the creation of anonymous functions at runtime, using a construct called \"lambda\" functions.\n"
   ]
  },
  {
   "cell_type": "code",
   "execution_count": null,
   "id": "36db0bac-27be-4eb1-9033-4c1501a8a229",
   "metadata": {},
   "outputs": [],
   "source": [
    "ANS 10) PIP stands for \"Pip Installs Packages\" or sometimes \"Pip Installs Python\".\n"
   ]
  },
  {
   "cell_type": "code",
   "execution_count": null,
   "id": "454e2099-5c1b-4fc4-8f02-79242e4f9e58",
   "metadata": {},
   "outputs": [],
   "source": [
    "ANS 11) Here are a few commonly used built-in functions in Python:\n",
    "print() - used to output text or values to the console\n",
    "len() - returns the number of items in an object    \n"
   ]
  },
  {
   "cell_type": "code",
   "execution_count": null,
   "id": "a3170b25-54f0-40b4-b8cc-4125cd573e55",
   "metadata": {},
   "outputs": [],
   "source": [
    "ANS 12) In Python, the maximum possible length of an identifier \n",
    "(variable, function, or class name) is not specified or limited by the language specification itself. \n",
    "Python community suggests that identifiers should be short and descriptive, and should not exceed 79 characters\n",
    "in length.\n"
   ]
  },
  {
   "cell_type": "code",
   "execution_count": null,
   "id": "73c3c308-de67-44e4-9e6d-1b1e1ac4d54f",
   "metadata": {},
   "outputs": [],
   "source": [
    "ANS 13)  Here are some of the key benefits of using Python:\n",
    "    \n",
    "1) Easy to learn and use: Python has a simple and intuitive syntax that makes it easy to read and write code. \n",
    "   Its readability and consistency make it a great language for beginners to learn.\n",
    "2) Large standard library: Python comes with a large standard library that includes modules\n",
    "   for a variety of tasks such as string processing, networking, file I/O, and more.\n",
    "   This makes it easy to write complex programs without having to reinvent the wheel.\n",
    "3) Cross-platform: Python can run on a wide variety of platforms, including Windows, Mac, Linux, \n",
    "   and many other operating systems.\n"
   ]
  },
  {
   "cell_type": "code",
   "execution_count": null,
   "id": "dac652ed-b82d-4e69-bb2b-bd3b0fa024cb",
   "metadata": {},
   "outputs": [],
   "source": [
    "ANS 14) In Python, memory is managed automatically using a technique called \"garbage collection\". \n",
    "When an object is created, Python allocates memory for it, and when the object is no longer needed, \n",
    "Python automatically frees up the memory so that it can be used for other purposes.\n"
   ]
  },
  {
   "cell_type": "code",
   "execution_count": null,
   "id": "0c52250f-ddd0-4835-9f37-038562fc3bfc",
   "metadata": {},
   "outputs": [],
   "source": [
    "ANS 15) Here are the steps to install Python on Windows and set the path variables:\n",
    "1) Download Python: Go to the official Python website (https://www.python.org/downloads/windows/) and download the \n",
    "   latest version of Python for Windows.\n",
    "2) Run the installer: Run the installer that you just downloaded and follow the prompts to install Python.\n",
    "   Choose the option to add Python to the PATH environment variable when prompted.\n",
    "3) Verify the installation: After the installation is complete, open a command prompt window and type \"python\" to verify \n",
    "   that Python is installed correctly. You should see the Python version number and the interactive Python prompt.\n",
    "4) Set the PATH variable: If you did not choose the option to add Python to the PATH environment variable during \n",
    "   installation, you will need to set it manually. \n",
    "   To do this, right-click on \"Computer\" or \"This PC\" and select \"Properties\" from the context menu. \n",
    "   Click on \"Advanced system settings\" and then click on the \"Environment Variables\" button. \n",
    "   Under \"System variables\", scroll down and find the \"Path\" variable. Click \"Edit\" and then click \"New\" to add a new entry to the path. \n",
    "   Type the path to the Python installation directory (e.g. C:\\Python3) and click \"OK\" to save the changes.\n",
    "5) Verify the PATH variable: To verify that the PATH variable is set correctly, \n",
    "   open a new command prompt window and type \"python\" again. \n",
    "   You should see the Python version number and the interactive Python prompt.\n",
    "That's it! Python is now installed on your Windows machine and you have set the necessary path variables to use it\n",
    "from the command prompt\n"
   ]
  },
  {
   "cell_type": "code",
   "execution_count": null,
   "id": "4e28b495-aa92-41ba-91ce-3ead8d386128",
   "metadata": {},
   "outputs": [],
   "source": [
    "ANS 16) Yes, indentation is required in Python."
   ]
  }
 ],
 "metadata": {
  "kernelspec": {
   "display_name": "Python 3 (ipykernel)",
   "language": "python",
   "name": "python3"
  },
  "language_info": {
   "codemirror_mode": {
    "name": "ipython",
    "version": 3
   },
   "file_extension": ".py",
   "mimetype": "text/x-python",
   "name": "python",
   "nbconvert_exporter": "python",
   "pygments_lexer": "ipython3",
   "version": "3.10.8"
  }
 },
 "nbformat": 4,
 "nbformat_minor": 5
}
